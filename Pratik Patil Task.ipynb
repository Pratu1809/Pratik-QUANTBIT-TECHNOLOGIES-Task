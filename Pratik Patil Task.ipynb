{
  "nbformat": 4,
  "nbformat_minor": 0,
  "metadata": {
    "colab": {
      "provenance": []
    },
    "kernelspec": {
      "name": "python3",
      "display_name": "Python 3"
    },
    "language_info": {
      "name": "python"
    }
  },
  "cells": [
    {
      "cell_type": "markdown",
      "source": [
        "**Task : Word frequency in Paragraph**"
      ],
      "metadata": {
        "id": "K32UJQA9e7vq"
      }
    },
    {
      "cell_type": "code",
      "source": [
        "from collections import Counter  #Here we imported counter for frequency checking from collections library\n",
        "\n",
        "paragraph = input(\"Enter the paragraph: \")\n",
        "words = paragraph.split()         # Here we splitted paragraph into word so that we can count words repetation easily\n",
        "frequency = Counter(words)\n",
        "\n",
        "for word, count in frequency.items():\n",
        "  print(f\"{word}: {count}\")"
      ],
      "metadata": {
        "colab": {
          "base_uri": "https://localhost:8080/"
        },
        "id": "TAUtynfQgv1X",
        "outputId": "0a09d872-168f-41b6-bc31-e51ef41d53d2"
      },
      "execution_count": 14,
      "outputs": [
        {
          "output_type": "stream",
          "name": "stdout",
          "text": [
            "Enter the paragraph: apple banana apple orange banana banana\n",
            "apple: 2\n",
            "banana: 3\n",
            "orange: 1\n"
          ]
        }
      ]
    }
  ]
}